{
 "cells": [
  {
   "cell_type": "code",
   "execution_count": 1,
   "metadata": {},
   "outputs": [],
   "source": [
    "import numpy as np \n",
    "import pandas as pd"
   ]
  },
  {
   "cell_type": "code",
   "execution_count": 2,
   "metadata": {},
   "outputs": [
    {
     "data": {
      "text/html": [
       "<div>\n",
       "<style scoped>\n",
       "    .dataframe tbody tr th:only-of-type {\n",
       "        vertical-align: middle;\n",
       "    }\n",
       "\n",
       "    .dataframe tbody tr th {\n",
       "        vertical-align: top;\n",
       "    }\n",
       "\n",
       "    .dataframe thead th {\n",
       "        text-align: right;\n",
       "    }\n",
       "</style>\n",
       "<table border=\"1\" class=\"dataframe\">\n",
       "  <thead>\n",
       "    <tr style=\"text-align: right;\">\n",
       "      <th></th>\n",
       "      <th>battery_power</th>\n",
       "      <th>blue</th>\n",
       "      <th>clock_speed</th>\n",
       "      <th>dual_sim</th>\n",
       "      <th>fc</th>\n",
       "      <th>four_g</th>\n",
       "      <th>int_memory</th>\n",
       "      <th>m_dep</th>\n",
       "      <th>mobile_wt</th>\n",
       "      <th>n_cores</th>\n",
       "      <th>...</th>\n",
       "      <th>px_height</th>\n",
       "      <th>px_width</th>\n",
       "      <th>ram</th>\n",
       "      <th>sc_h</th>\n",
       "      <th>sc_w</th>\n",
       "      <th>talk_time</th>\n",
       "      <th>three_g</th>\n",
       "      <th>touch_screen</th>\n",
       "      <th>wifi</th>\n",
       "      <th>price_range</th>\n",
       "    </tr>\n",
       "  </thead>\n",
       "  <tbody>\n",
       "    <tr>\n",
       "      <th>0</th>\n",
       "      <td>842</td>\n",
       "      <td>0</td>\n",
       "      <td>2.2</td>\n",
       "      <td>0</td>\n",
       "      <td>1.0</td>\n",
       "      <td>0.0</td>\n",
       "      <td>7.0</td>\n",
       "      <td>0.6</td>\n",
       "      <td>188.0</td>\n",
       "      <td>2.0</td>\n",
       "      <td>...</td>\n",
       "      <td>20.0</td>\n",
       "      <td>756.0</td>\n",
       "      <td>2549.0</td>\n",
       "      <td>9.0</td>\n",
       "      <td>7.0</td>\n",
       "      <td>19</td>\n",
       "      <td>0</td>\n",
       "      <td>0</td>\n",
       "      <td>1</td>\n",
       "      <td>1</td>\n",
       "    </tr>\n",
       "    <tr>\n",
       "      <th>1</th>\n",
       "      <td>1021</td>\n",
       "      <td>1</td>\n",
       "      <td>0.5</td>\n",
       "      <td>1</td>\n",
       "      <td>0.0</td>\n",
       "      <td>1.0</td>\n",
       "      <td>53.0</td>\n",
       "      <td>0.7</td>\n",
       "      <td>136.0</td>\n",
       "      <td>3.0</td>\n",
       "      <td>...</td>\n",
       "      <td>905.0</td>\n",
       "      <td>1988.0</td>\n",
       "      <td>2631.0</td>\n",
       "      <td>17.0</td>\n",
       "      <td>3.0</td>\n",
       "      <td>7</td>\n",
       "      <td>1</td>\n",
       "      <td>1</td>\n",
       "      <td>0</td>\n",
       "      <td>2</td>\n",
       "    </tr>\n",
       "    <tr>\n",
       "      <th>2</th>\n",
       "      <td>563</td>\n",
       "      <td>1</td>\n",
       "      <td>0.5</td>\n",
       "      <td>1</td>\n",
       "      <td>2.0</td>\n",
       "      <td>1.0</td>\n",
       "      <td>41.0</td>\n",
       "      <td>0.9</td>\n",
       "      <td>145.0</td>\n",
       "      <td>5.0</td>\n",
       "      <td>...</td>\n",
       "      <td>1263.0</td>\n",
       "      <td>1716.0</td>\n",
       "      <td>2603.0</td>\n",
       "      <td>11.0</td>\n",
       "      <td>2.0</td>\n",
       "      <td>9</td>\n",
       "      <td>1</td>\n",
       "      <td>1</td>\n",
       "      <td>0</td>\n",
       "      <td>2</td>\n",
       "    </tr>\n",
       "    <tr>\n",
       "      <th>3</th>\n",
       "      <td>615</td>\n",
       "      <td>1</td>\n",
       "      <td>2.5</td>\n",
       "      <td>0</td>\n",
       "      <td>0.0</td>\n",
       "      <td>0.0</td>\n",
       "      <td>10.0</td>\n",
       "      <td>0.8</td>\n",
       "      <td>131.0</td>\n",
       "      <td>6.0</td>\n",
       "      <td>...</td>\n",
       "      <td>1216.0</td>\n",
       "      <td>1786.0</td>\n",
       "      <td>2769.0</td>\n",
       "      <td>16.0</td>\n",
       "      <td>8.0</td>\n",
       "      <td>11</td>\n",
       "      <td>1</td>\n",
       "      <td>0</td>\n",
       "      <td>0</td>\n",
       "      <td>2</td>\n",
       "    </tr>\n",
       "    <tr>\n",
       "      <th>4</th>\n",
       "      <td>1821</td>\n",
       "      <td>1</td>\n",
       "      <td>1.2</td>\n",
       "      <td>0</td>\n",
       "      <td>13.0</td>\n",
       "      <td>1.0</td>\n",
       "      <td>44.0</td>\n",
       "      <td>0.6</td>\n",
       "      <td>141.0</td>\n",
       "      <td>2.0</td>\n",
       "      <td>...</td>\n",
       "      <td>1208.0</td>\n",
       "      <td>1212.0</td>\n",
       "      <td>1411.0</td>\n",
       "      <td>8.0</td>\n",
       "      <td>2.0</td>\n",
       "      <td>15</td>\n",
       "      <td>1</td>\n",
       "      <td>1</td>\n",
       "      <td>0</td>\n",
       "      <td>1</td>\n",
       "    </tr>\n",
       "  </tbody>\n",
       "</table>\n",
       "<p>5 rows × 21 columns</p>\n",
       "</div>"
      ],
      "text/plain": [
       "   battery_power  blue  clock_speed  dual_sim    fc  four_g  int_memory  \\\n",
       "0            842     0          2.2         0   1.0     0.0         7.0   \n",
       "1           1021     1          0.5         1   0.0     1.0        53.0   \n",
       "2            563     1          0.5         1   2.0     1.0        41.0   \n",
       "3            615     1          2.5         0   0.0     0.0        10.0   \n",
       "4           1821     1          1.2         0  13.0     1.0        44.0   \n",
       "\n",
       "   m_dep  mobile_wt  n_cores  ...  px_height  px_width     ram  sc_h  sc_w  \\\n",
       "0    0.6      188.0      2.0  ...       20.0     756.0  2549.0   9.0   7.0   \n",
       "1    0.7      136.0      3.0  ...      905.0    1988.0  2631.0  17.0   3.0   \n",
       "2    0.9      145.0      5.0  ...     1263.0    1716.0  2603.0  11.0   2.0   \n",
       "3    0.8      131.0      6.0  ...     1216.0    1786.0  2769.0  16.0   8.0   \n",
       "4    0.6      141.0      2.0  ...     1208.0    1212.0  1411.0   8.0   2.0   \n",
       "\n",
       "   talk_time  three_g  touch_screen  wifi  price_range  \n",
       "0         19        0             0     1            1  \n",
       "1          7        1             1     0            2  \n",
       "2          9        1             1     0            2  \n",
       "3         11        1             0     0            2  \n",
       "4         15        1             1     0            1  \n",
       "\n",
       "[5 rows x 21 columns]"
      ]
     },
     "execution_count": 2,
     "metadata": {},
     "output_type": "execute_result"
    }
   ],
   "source": [
    "df = pd.read_csv(\"train.csv\")\n",
    "df.head()"
   ]
  },
  {
   "cell_type": "code",
   "execution_count": 3,
   "metadata": {},
   "outputs": [
    {
     "data": {
      "text/plain": [
       "battery_power    0.00\n",
       "blue             0.00\n",
       "clock_speed      0.00\n",
       "dual_sim         0.00\n",
       "fc               0.25\n",
       "four_g           0.25\n",
       "int_memory       0.25\n",
       "m_dep            0.25\n",
       "mobile_wt        0.20\n",
       "n_cores          0.20\n",
       "pc               0.25\n",
       "px_height        0.20\n",
       "px_width         0.10\n",
       "ram              0.10\n",
       "sc_h             0.05\n",
       "sc_w             0.05\n",
       "talk_time        0.00\n",
       "three_g          0.00\n",
       "touch_screen     0.00\n",
       "wifi             0.00\n",
       "price_range      0.00\n",
       "dtype: float64"
      ]
     },
     "execution_count": 3,
     "metadata": {},
     "output_type": "execute_result"
    }
   ],
   "source": [
    "## % of missing values \n",
    "df.isnull().sum()/len(df) * 100"
   ]
  },
  {
   "cell_type": "code",
   "execution_count": 4,
   "metadata": {},
   "outputs": [
    {
     "data": {
      "text/plain": [
       "battery_power      int64\n",
       "blue               int64\n",
       "clock_speed      float64\n",
       "dual_sim           int64\n",
       "fc               float64\n",
       "four_g           float64\n",
       "int_memory       float64\n",
       "m_dep            float64\n",
       "mobile_wt        float64\n",
       "n_cores          float64\n",
       "pc               float64\n",
       "px_height        float64\n",
       "px_width         float64\n",
       "ram              float64\n",
       "sc_h             float64\n",
       "sc_w             float64\n",
       "talk_time          int64\n",
       "three_g            int64\n",
       "touch_screen       int64\n",
       "wifi               int64\n",
       "price_range        int64\n",
       "dtype: object"
      ]
     },
     "execution_count": 4,
     "metadata": {},
     "output_type": "execute_result"
    }
   ],
   "source": [
    "## check the columns types \n",
    "df.dtypes"
   ]
  },
  {
   "cell_type": "code",
   "execution_count": 5,
   "metadata": {},
   "outputs": [
    {
     "data": {
      "text/plain": [
       "price_range      1.000000\n",
       "ram              0.917119\n",
       "battery_power    0.200723\n",
       "px_width         0.166094\n",
       "px_height        0.148184\n",
       "int_memory       0.042589\n",
       "sc_w             0.038777\n",
       "pc               0.034639\n",
       "fc               0.024999\n",
       "three_g          0.023611\n",
       "sc_h             0.023300\n",
       "talk_time        0.021859\n",
       "blue             0.020573\n",
       "wifi             0.018785\n",
       "dual_sim         0.017444\n",
       "four_g           0.015494\n",
       "n_cores          0.004598\n",
       "m_dep           -0.000083\n",
       "clock_speed     -0.006606\n",
       "touch_screen    -0.030411\n",
       "mobile_wt       -0.032457\n",
       "Name: price_range, dtype: float64"
      ]
     },
     "execution_count": 5,
     "metadata": {},
     "output_type": "execute_result"
    }
   ],
   "source": [
    "## checking for the correlation between the target and features\n",
    "matrix = df.corr(numeric_only=True)  \n",
    "target = matrix[\"price_range\"].sort_values(ascending=False)\n",
    "target"
   ]
  },
  {
   "cell_type": "code",
   "execution_count": 7,
   "metadata": {},
   "outputs": [
    {
     "data": {
      "text/plain": [
       "battery_power    1094\n",
       "blue                2\n",
       "clock_speed        26\n",
       "dual_sim            2\n",
       "fc                 20\n",
       "four_g              2\n",
       "int_memory         63\n",
       "m_dep              10\n",
       "mobile_wt         121\n",
       "n_cores             8\n",
       "pc                 21\n",
       "px_height        1135\n",
       "px_width         1109\n",
       "ram              1561\n",
       "sc_h               15\n",
       "sc_w               19\n",
       "talk_time          19\n",
       "three_g             2\n",
       "touch_screen        2\n",
       "wifi                2\n",
       "price_range         4\n",
       "dtype: int64"
      ]
     },
     "execution_count": 7,
     "metadata": {},
     "output_type": "execute_result"
    }
   ],
   "source": [
    "df.nunique()  ## check for number of unique values in each column"
   ]
  },
  {
   "cell_type": "code",
   "execution_count": 8,
   "metadata": {},
   "outputs": [],
   "source": [
    "## Fill null values \n",
    "\n",
    "df[\"fc\"].fillna(df[\"fc\"].mean(), inplace=True)\n",
    "df[\"four_g\"].fillna(df[\"four_g\"].median(), inplace=True)\n",
    "df[\"int_memory\"].fillna(df[\"int_memory\"].mean(), inplace=True)\n",
    "df[\"m_dep\"].fillna(df[\"m_dep\"].mean(), inplace=True)\n",
    "df[\"mobile_wt\"].fillna(df[\"mobile_wt\"].mean(), inplace=True)\n",
    "\n",
    "df[\"n_cores\"].fillna(df[\"n_cores\"].median(), inplace=True)\n",
    "df[\"pc\"].fillna(df[\"pc\"].median(), inplace=True)\n",
    "df[\"px_height\"].fillna(df[\"px_height\"].mean(), inplace=True)\n",
    "df[\"px_width\"].fillna(df[\"px_width\"].mean(), inplace=True)\n",
    "\n",
    "df[\"ram\"].fillna(df[\"ram\"].mean(), inplace=True)\n",
    "\n",
    "df.dropna(subset=[\"sc_h\",\"sc_w\"],inplace=True)"
   ]
  },
  {
   "cell_type": "code",
   "execution_count": 10,
   "metadata": {},
   "outputs": [
    {
     "data": {
      "text/plain": [
       "battery_power    0\n",
       "blue             0\n",
       "clock_speed      0\n",
       "dual_sim         0\n",
       "fc               0\n",
       "four_g           0\n",
       "int_memory       0\n",
       "m_dep            0\n",
       "mobile_wt        0\n",
       "n_cores          0\n",
       "pc               0\n",
       "px_height        0\n",
       "px_width         0\n",
       "ram              0\n",
       "sc_h             0\n",
       "sc_w             0\n",
       "talk_time        0\n",
       "three_g          0\n",
       "touch_screen     0\n",
       "wifi             0\n",
       "price_range      0\n",
       "dtype: int64"
      ]
     },
     "execution_count": 10,
     "metadata": {},
     "output_type": "execute_result"
    }
   ],
   "source": [
    "df.isnull().sum() ## Check for null values"
   ]
  },
  {
   "cell_type": "code",
   "execution_count": 11,
   "metadata": {},
   "outputs": [],
   "source": [
    "df.to_csv(\"train_data_2.csv\", index=False)"
   ]
  }
 ],
 "metadata": {
  "kernelspec": {
   "display_name": "Python 3",
   "language": "python",
   "name": "python3"
  },
  "language_info": {
   "codemirror_mode": {
    "name": "ipython",
    "version": 3
   },
   "file_extension": ".py",
   "mimetype": "text/x-python",
   "name": "python",
   "nbconvert_exporter": "python",
   "pygments_lexer": "ipython3",
   "version": "3.11.2"
  }
 },
 "nbformat": 4,
 "nbformat_minor": 2
}
